{
 "cells": [
  {
   "cell_type": "code",
   "execution_count": 7,
   "metadata": {
    "collapsed": false
   },
   "outputs": [],
   "source": [
    "import numpy as np\n",
    "import cv2\n",
    "import os\n",
    "from scipy import misc\n",
    "import matplotlib.pyplot as plt\n",
    "import glob\n",
    "import pandas as pd\n",
    "import math\n",
    "from numpy.linalg import inv\n"
   ]
  },
  {
   "cell_type": "code",
   "execution_count": 4,
   "metadata": {
    "collapsed": false
   },
   "outputs": [],
   "source": [
    "imgList = []\n",
    "for filename in glob.glob('C:\\\\Users\\\\Fabian\\\\Desktop\\\\ML\\\\3\\\\positives\\\\*.png'):\n",
    "    imgList.append( cv2.imread(filename,cv2.IMREAD_COLOR ))\n",
    "for filename in glob.glob('C:\\\\Users\\\\Fabian\\\\Desktop\\\\ML\\\\3\\\\negatives\\\\*.png'):\n",
    "    imgList.append( cv2.imread(filename,cv2.IMREAD_COLOR ))\n",
    "    "
   ]
  },
  {
   "cell_type": "code",
   "execution_count": 5,
   "metadata": {
    "collapsed": false
   },
   "outputs": [
    {
     "data": {
      "text/html": [
       "<div>\n",
       "<table border=\"1\" class=\"dataframe\">\n",
       "  <thead>\n",
       "    <tr style=\"text-align: right;\">\n",
       "      <th></th>\n",
       "      <th>data</th>\n",
       "      <th>lables</th>\n",
       "    </tr>\n",
       "  </thead>\n",
       "  <tbody>\n",
       "    <tr>\n",
       "      <th>55</th>\n",
       "      <td>[[[155, 159, 192], [155, 162, 195], [149, 161,...</td>\n",
       "      <td>1</td>\n",
       "    </tr>\n",
       "    <tr>\n",
       "      <th>56</th>\n",
       "      <td>[[[137, 137, 171], [133, 130, 164], [131, 124,...</td>\n",
       "      <td>1</td>\n",
       "    </tr>\n",
       "    <tr>\n",
       "      <th>57</th>\n",
       "      <td>[[[97, 96, 136], [109, 96, 140], [111, 92, 140...</td>\n",
       "      <td>1</td>\n",
       "    </tr>\n",
       "    <tr>\n",
       "      <th>58</th>\n",
       "      <td>[[[141, 133, 161], [143, 132, 159], [148, 136,...</td>\n",
       "      <td>1</td>\n",
       "    </tr>\n",
       "    <tr>\n",
       "      <th>59</th>\n",
       "      <td>[[[134, 114, 147], [133, 117, 150], [131, 120,...</td>\n",
       "      <td>1</td>\n",
       "    </tr>\n",
       "  </tbody>\n",
       "</table>\n",
       "</div>"
      ],
      "text/plain": [
       "                                                 data  lables\n",
       "55  [[[155, 159, 192], [155, 162, 195], [149, 161,...       1\n",
       "56  [[[137, 137, 171], [133, 130, 164], [131, 124,...       1\n",
       "57  [[[97, 96, 136], [109, 96, 140], [111, 92, 140...       1\n",
       "58  [[[141, 133, 161], [143, 132, 159], [148, 136,...       1\n",
       "59  [[[134, 114, 147], [133, 117, 150], [131, 120,...       1"
      ]
     },
     "execution_count": 5,
     "metadata": {},
     "output_type": "execute_result"
    }
   ],
   "source": [
    "#s = pd.Series(imgList)\n",
    "df = pd.DataFrame([i] for i in imgList)\n",
    "df.columns = ['data']\n",
    "lables = [0 if y <30 else 1 for y in range(60)]\n",
    "df['lables'] = pd.Series(lables)\n",
    "\n",
    "df.tail(5)\n"
   ]
  },
  {
   "cell_type": "code",
   "execution_count": 6,
   "metadata": {
    "collapsed": false
   },
   "outputs": [],
   "source": [
    "def getFeatures(imgList):\n",
    "    featureList = []\n",
    "    for image in imgList:\n",
    "        features = [];\n",
    "        features.append(np.amin(image[:,:,0]))\n",
    "        features.append(np.amin(image[:,:,1]))\n",
    "        features.append(np.amin(image[:,:,2]))\n",
    "        features.append(np.amax(image[:,:,0]))\n",
    "        features.append(np.amax(image[:,:,2]))\n",
    "        featureList.append(features)\n",
    "    return featureList;\n"
   ]
  },
  {
   "cell_type": "code",
   "execution_count": 7,
   "metadata": {
    "collapsed": false
   },
   "outputs": [],
   "source": [
    "features = getFeatures(df['data'])\n",
    "df['lowestR'] = pd.Series(i[0] for i in features)\n",
    "df['lowestG'] = pd.Series(i[1] for i in features)\n",
    "df['lowestB'] = pd.Series(i[2] for i in features)\n",
    "df['highestR'] = pd.Series(i[3] for i in features)\n",
    "df['highestB'] = pd.Series(i[4] for i in features)"
   ]
  },
  {
   "cell_type": "code",
   "execution_count": 8,
   "metadata": {
    "collapsed": false
   },
   "outputs": [
    {
     "data": {
      "text/html": [
       "<div>\n",
       "<table border=\"1\" class=\"dataframe\">\n",
       "  <thead>\n",
       "    <tr style=\"text-align: right;\">\n",
       "      <th></th>\n",
       "      <th>data</th>\n",
       "      <th>lables</th>\n",
       "      <th>lowestR</th>\n",
       "      <th>lowestG</th>\n",
       "      <th>lowestB</th>\n",
       "      <th>highestR</th>\n",
       "      <th>highestB</th>\n",
       "    </tr>\n",
       "  </thead>\n",
       "  <tbody>\n",
       "    <tr>\n",
       "      <th>0</th>\n",
       "      <td>[[[157, 164, 188], [159, 165, 191], [151, 163,...</td>\n",
       "      <td>0</td>\n",
       "      <td>117</td>\n",
       "      <td>60</td>\n",
       "      <td>110</td>\n",
       "      <td>167</td>\n",
       "      <td>201</td>\n",
       "    </tr>\n",
       "    <tr>\n",
       "      <th>1</th>\n",
       "      <td>[[[126, 124, 160], [130, 127, 163], [132, 129,...</td>\n",
       "      <td>0</td>\n",
       "      <td>125</td>\n",
       "      <td>58</td>\n",
       "      <td>105</td>\n",
       "      <td>179</td>\n",
       "      <td>216</td>\n",
       "    </tr>\n",
       "    <tr>\n",
       "      <th>2</th>\n",
       "      <td>[[[142, 158, 177], [146, 156, 178], [142, 155,...</td>\n",
       "      <td>0</td>\n",
       "      <td>108</td>\n",
       "      <td>53</td>\n",
       "      <td>77</td>\n",
       "      <td>158</td>\n",
       "      <td>190</td>\n",
       "    </tr>\n",
       "    <tr>\n",
       "      <th>3</th>\n",
       "      <td>[[[152, 165, 191], [150, 167, 196], [153, 170,...</td>\n",
       "      <td>0</td>\n",
       "      <td>119</td>\n",
       "      <td>51</td>\n",
       "      <td>83</td>\n",
       "      <td>170</td>\n",
       "      <td>217</td>\n",
       "    </tr>\n",
       "    <tr>\n",
       "      <th>4</th>\n",
       "      <td>[[[118, 121, 156], [120, 116, 149], [112, 111,...</td>\n",
       "      <td>0</td>\n",
       "      <td>110</td>\n",
       "      <td>43</td>\n",
       "      <td>75</td>\n",
       "      <td>170</td>\n",
       "      <td>206</td>\n",
       "    </tr>\n",
       "  </tbody>\n",
       "</table>\n",
       "</div>"
      ],
      "text/plain": [
       "                                                data  lables  lowestR  \\\n",
       "0  [[[157, 164, 188], [159, 165, 191], [151, 163,...       0      117   \n",
       "1  [[[126, 124, 160], [130, 127, 163], [132, 129,...       0      125   \n",
       "2  [[[142, 158, 177], [146, 156, 178], [142, 155,...       0      108   \n",
       "3  [[[152, 165, 191], [150, 167, 196], [153, 170,...       0      119   \n",
       "4  [[[118, 121, 156], [120, 116, 149], [112, 111,...       0      110   \n",
       "\n",
       "   lowestG  lowestB  highestR  highestB  \n",
       "0       60      110       167       201  \n",
       "1       58      105       179       216  \n",
       "2       53       77       158       190  \n",
       "3       51       83       170       217  \n",
       "4       43       75       170       206  "
      ]
     },
     "execution_count": 8,
     "metadata": {},
     "output_type": "execute_result"
    }
   ],
   "source": [
    "df.head(5)"
   ]
  },
  {
   "cell_type": "code",
   "execution_count": 9,
   "metadata": {
    "collapsed": false
   },
   "outputs": [
    {
     "data": {
      "text/html": [
       "<div>\n",
       "<table border=\"1\" class=\"dataframe\">\n",
       "  <thead>\n",
       "    <tr style=\"text-align: right;\">\n",
       "      <th></th>\n",
       "      <th>lowestR</th>\n",
       "      <th>lowestG</th>\n",
       "      <th>lowestB</th>\n",
       "      <th>highestR</th>\n",
       "      <th>highestB</th>\n",
       "    </tr>\n",
       "  </thead>\n",
       "  <tbody>\n",
       "    <tr>\n",
       "      <th>30</th>\n",
       "      <td>94</td>\n",
       "      <td>91</td>\n",
       "      <td>130</td>\n",
       "      <td>139</td>\n",
       "      <td>165</td>\n",
       "    </tr>\n",
       "    <tr>\n",
       "      <th>31</th>\n",
       "      <td>96</td>\n",
       "      <td>95</td>\n",
       "      <td>125</td>\n",
       "      <td>147</td>\n",
       "      <td>196</td>\n",
       "    </tr>\n",
       "    <tr>\n",
       "      <th>32</th>\n",
       "      <td>83</td>\n",
       "      <td>79</td>\n",
       "      <td>108</td>\n",
       "      <td>128</td>\n",
       "      <td>173</td>\n",
       "    </tr>\n",
       "    <tr>\n",
       "      <th>33</th>\n",
       "      <td>109</td>\n",
       "      <td>120</td>\n",
       "      <td>154</td>\n",
       "      <td>150</td>\n",
       "      <td>191</td>\n",
       "    </tr>\n",
       "    <tr>\n",
       "      <th>34</th>\n",
       "      <td>113</td>\n",
       "      <td>118</td>\n",
       "      <td>154</td>\n",
       "      <td>152</td>\n",
       "      <td>189</td>\n",
       "    </tr>\n",
       "    <tr>\n",
       "      <th>35</th>\n",
       "      <td>113</td>\n",
       "      <td>56</td>\n",
       "      <td>105</td>\n",
       "      <td>161</td>\n",
       "      <td>193</td>\n",
       "    </tr>\n",
       "    <tr>\n",
       "      <th>36</th>\n",
       "      <td>83</td>\n",
       "      <td>93</td>\n",
       "      <td>139</td>\n",
       "      <td>138</td>\n",
       "      <td>183</td>\n",
       "    </tr>\n",
       "    <tr>\n",
       "      <th>37</th>\n",
       "      <td>119</td>\n",
       "      <td>135</td>\n",
       "      <td>168</td>\n",
       "      <td>164</td>\n",
       "      <td>199</td>\n",
       "    </tr>\n",
       "    <tr>\n",
       "      <th>38</th>\n",
       "      <td>116</td>\n",
       "      <td>128</td>\n",
       "      <td>163</td>\n",
       "      <td>155</td>\n",
       "      <td>191</td>\n",
       "    </tr>\n",
       "    <tr>\n",
       "      <th>39</th>\n",
       "      <td>88</td>\n",
       "      <td>94</td>\n",
       "      <td>142</td>\n",
       "      <td>156</td>\n",
       "      <td>198</td>\n",
       "    </tr>\n",
       "  </tbody>\n",
       "</table>\n",
       "</div>"
      ],
      "text/plain": [
       "    lowestR  lowestG  lowestB  highestR  highestB\n",
       "30       94       91      130       139       165\n",
       "31       96       95      125       147       196\n",
       "32       83       79      108       128       173\n",
       "33      109      120      154       150       191\n",
       "34      113      118      154       152       189\n",
       "35      113       56      105       161       193\n",
       "36       83       93      139       138       183\n",
       "37      119      135      168       164       199\n",
       "38      116      128      163       155       191\n",
       "39       88       94      142       156       198"
      ]
     },
     "execution_count": 9,
     "metadata": {},
     "output_type": "execute_result"
    }
   ],
   "source": [
    "positives = df[df.lables == 0]\n",
    "negatives = df[df.lables == 1]\n",
    "featuresPositive = positives[['lowestR','lowestG','lowestB','highestR','highestB']]\n",
    "featuresNegative = negatives[['lowestR','lowestG','lowestB','highestR','highestB']]\n",
    "featuresNegative.head(10)"
   ]
  },
  {
   "cell_type": "code",
   "execution_count": 10,
   "metadata": {
    "collapsed": false
   },
   "outputs": [],
   "source": [
    "def getCovariance(featureVectors):\n",
    "    features = np.array(featureVectors)\n",
    "    mean = np.array(featureVectors.mean());\n",
    "    m = len(featureVectors);\n",
    "    covariance = 1/m* sum([((feature-mean).reshape((-1, 1)) * (feature-mean)) for feature in features])\n",
    "    return covariance"
   ]
  },
  {
   "cell_type": "code",
   "execution_count": 11,
   "metadata": {
    "collapsed": false
   },
   "outputs": [],
   "source": [
    "def getProb (sample, covM, mean):\n",
    "    exp = -0.5*np.matmul(np.matmul(sample-mean,inv(covM)),(sample-mean).reshape((-1,1)))\n",
    "    #print(np.exp(exp))\n",
    "    return (1/((2*math.pi)*np.linalg.det(covM)**0.5))*np.exp(exp)"
   ]
  },
  {
   "cell_type": "code",
   "execution_count": 12,
   "metadata": {
    "collapsed": false
   },
   "outputs": [],
   "source": [
    "features = df[['lowestR','lowestG','lowestB','highestR','highestB']]\n",
    "lables = df[['lables']]"
   ]
  },
  {
   "cell_type": "code",
   "execution_count": 13,
   "metadata": {
    "collapsed": false
   },
   "outputs": [],
   "source": [
    "covM = getCovariance(np.array(features))\n",
    "meanP = np.array(featuresPositive.mean());\n",
    "meanN = np.array(featuresNegative.mean());\n",
    "phi = 1/len(df) * len(positives)"
   ]
  },
  {
   "cell_type": "code",
   "execution_count": 14,
   "metadata": {
    "collapsed": false
   },
   "outputs": [
    {
     "data": {
      "text/plain": [
       "array([  2.21611592e-08])"
      ]
     },
     "execution_count": 14,
     "metadata": {},
     "output_type": "execute_result"
    }
   ],
   "source": [
    "features = np.array(features);\n",
    "lables = np.array(lables);\n",
    "getProb(features[1],covM,meanP)"
   ]
  },
  {
   "cell_type": "code",
   "execution_count": 15,
   "metadata": {
    "collapsed": false
   },
   "outputs": [
    {
     "name": "stdout",
     "output_type": "stream",
     "text": [
      "FN 6\n",
      "1.6666666666666667 % wrong\n"
     ]
    }
   ],
   "source": [
    "\n",
    "c = 0;\n",
    "wrong = 0;\n",
    "for x in features:\n",
    "    if getProb(x,covM,meanP) > getProb(x,covM,meanN):\n",
    "        if(lables[c] != 0):\n",
    "            wrong += 1;\n",
    "            print('FN',c-29)\n",
    "    else:\n",
    "        if(lables[c] != 1):\n",
    "            wrong += 1; \n",
    "            print('FP',c)\n",
    "    c += 1;\n",
    "\n",
    "print(wrong*100/len(features),'% wrong')\n",
    "         "
   ]
  },
  {
   "cell_type": "code",
   "execution_count": 19,
   "metadata": {
    "collapsed": false
   },
   "outputs": [
    {
     "name": "stdout",
     "output_type": "stream",
     "text": [
      "(24, 24, 3)\n"
     ]
    },
    {
     "data": {
      "text/plain": [
       "<matplotlib.image.AxesImage at 0x2d255570cc0>"
      ]
     },
     "execution_count": 19,
     "metadata": {},
     "output_type": "execute_result"
    },
    {
     "data": {
      "image/png": "[encoded data removed]",
      "text/plain": [
       "<matplotlib.figure.Figure at 0x2d2549b5fd0>"
      ]
     },
     "metadata": {},
     "output_type": "display_data"
    }
   ],
   "source": [
    "\n",
    "%matplotlib inline\n",
    "a = np.array(df.iloc[[35]])\n",
    "a = a[0,0]\n",
    "print(a.shape)\n",
    "plt.imshow(np.asarray(a))"
   ]
  },
  {
   "cell_type": "code",
   "execution_count": null,
   "metadata": {
    "collapsed": true
   },
   "outputs": [],
   "source": []
  }
 ],
 "metadata": {
  "anaconda-cloud": {},
  "kernelspec": {
   "display_name": "Python 3",
   "language": "python",
   "name": "python3"
  },
  "language_info": {
   "codemirror_mode": {
    "name": "ipython",
    "version": 3
   },
   "file_extension": ".py",
   "mimetype": "text/x-python",
   "name": "python",
   "nbconvert_exporter": "python",
   "pygments_lexer": "ipython3",
   "version": "3.6.0"
  }
 },
 "nbformat": 4,
 "nbformat_minor": 1
}
