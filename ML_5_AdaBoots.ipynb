{
 "cells": [
  {
   "cell_type": "code",
   "execution_count": 81,
   "metadata": {
    "collapsed": true
   },
   "outputs": [],
   "source": [
    "import pandas as pd\n",
    "import numpy as np\n",
    "import matplotlib.pyplot as plt\n",
    "from random import uniform\n",
    "import inspect\n",
    "import collections"
   ]
  },
  {
   "cell_type": "code",
   "execution_count": 2,
   "metadata": {
    "collapsed": true
   },
   "outputs": [],
   "source": [
    "df = pd.read_csv(\"C:\\\\Users\\\\Fabian\\\\Desktop\\\\ML\\\\5\\\\dataCircle.txt\", delim_whitespace=True);\n",
    "\n",
    "#df['color'] = df.label.apply(lambda l: 'green' if l == 1 else 'red')\n",
    "df['X'] = [np.array([x, y]) for (x, y) in zip(df.x1, df.x2)]"
   ]
  },
  {
   "cell_type": "code",
   "execution_count": 76,
   "metadata": {
    "collapsed": true
   },
   "outputs": [],
   "source": [
    "    def getErrors(funcList, D): \n",
    "        e = []\n",
    "        for func in funcList:\n",
    "            errors = np.array([y!=func.calc(x) for y,x in zip(labels,data)])\n",
    "#             print(errors)\n",
    "            e.append([(errors*D).sum(),func, func.t,func.dim])\n",
    "        return e"
   ]
  },
  {
   "cell_type": "code",
   "execution_count": 115,
   "metadata": {
    "collapsed": true
   },
   "outputs": [],
   "source": [
    "    def set_rule(funcList, D, ALPHA,RULES):\n",
    "        for func in funcList:\n",
    "            errors = np.array([y!=func.calc(x) for y,x in zip(labels,data)])\n",
    "            e = (errors*D).sum()\n",
    "            alpha = 0.5 * np.log((1-e)/e)\n",
    "#             print ('e=%.2f a=%.2f'%(e, alpha))\n",
    "            w = np.zeros(m)\n",
    "            for i in range(m):\n",
    "                if errors[i] == 1: w[i] = D[i] * np.exp(alpha)\n",
    "                else: w[i] = D[i] * np.exp(-alpha)\n",
    "            D = w / w.sum()\n",
    "            RULES.append(func)\n",
    "            ALPHA.append(alpha)\n",
    "        return ALPHA,RULES,D"
   ]
  },
  {
   "cell_type": "code",
   "execution_count": 70,
   "metadata": {
    "collapsed": true
   },
   "outputs": [],
   "source": [
    "    def evaluate(ALPHA ,RULES):\n",
    "        NR = len(RULES)\n",
    "        wrong =[]\n",
    "        for (x,l) in zip(data,labels):\n",
    "            hx = [ALPHA[i]*(RULES[i].calc(x)) for i in range(NR)]\n",
    "            wrong.append(np.sign(l) == np.sign(sum(hx)))\n",
    "        return wrong      "
   ]
  },
  {
   "cell_type": "code",
   "execution_count": 71,
   "metadata": {
    "collapsed": true
   },
   "outputs": [],
   "source": [
    "class wc_b:\n",
    "    def __init__(self,t,dim):\n",
    "        self.t = t\n",
    "        self.dim = dim\n",
    "        \n",
    "    def calc(self,x):\n",
    "        if x[self.dim] > self.t:\n",
    "            return 1\n",
    "        else: return -1\n",
    "    \n",
    "class wc_s:\n",
    "    def __init__(self,t,dim):\n",
    "        self.t = t\n",
    "        self.dim = dim\n",
    "        \n",
    "    def calc(self,x):\n",
    "        if x[self.dim] < self.t:\n",
    "            return 1\n",
    "        else: return -1"
   ]
  },
  {
   "cell_type": "code",
   "execution_count": 112,
   "metadata": {
    "collapsed": true
   },
   "outputs": [],
   "source": [
    "m = df.shape[0]\n",
    "D = np.ones(m)/m\n",
    "RULES = []\n",
    "ALPHA = []\n",
    "data = df.X\n",
    "labels = df.label\n",
    "winner =[]"
   ]
  },
  {
   "cell_type": "code",
   "execution_count": 118,
   "metadata": {
    "collapsed": false
   },
   "outputs": [
    {
     "name": "stdout",
     "output_type": "stream",
     "text": [
      "[[0.40196078431372556, <__main__.wc_b object at 0x00000258CEB1D5F8>, -5.800000000000015, 0], [0.38235294117647067, <__main__.wc_s object at 0x00000258CEBA0A90>, 4.6999999999999815, 0], [0.39215686274509803, <__main__.wc_b object at 0x00000258CD64A668>, 9.799999999999963, 1], [0.38235294117647062, <__main__.wc_s object at 0x00000258CEBA7780>, 2.199999999999982, 1], [0.42249900126449236, <__main__.wc_b object at 0x00000258CD64DDD8>, -3.2000000000000206, 0], [0.40310095339934648, <__main__.wc_s object at 0x00000258CD66B390>, 6.3999999999999755, 0], [0.25771619812184826, <__main__.wc_b object at 0x00000258CD64D128>, -4.700000000000019, 1], [0.36193743864880662, <__main__.wc_s object at 0x00000258CD66B4E0>, 6.499999999999975, 1], [0.38083129614385358, <__main__.wc_b object at 0x00000258CD675470>, 9.899999999999963, 0], [0.35582977230499668, <__main__.wc_s object at 0x00000258CEAB8208>, -10, 0], [0.35582977230499668, <__main__.wc_b object at 0x00000258CD675400>, 9.799999999999963, 1], [0.35582977230499668, <__main__.wc_s object at 0x00000258CD5C8518>, -10, 1], [0.37860609680032387, <__main__.wc_b object at 0x00000258CF12F630>, -6.800000000000011, 0], [0.40346986889867326, <__main__.wc_s object at 0x00000258CF123518>, -1.400000000000019, 0], [0.29833623519138991, <__main__.wc_b object at 0x00000258CF12FBE0>, -6.2000000000000135, 1], [0.41271687409868707, <__main__.wc_s object at 0x00000258CEB4A208>, 6.499999999999975, 1]]\n"
     ]
    },
    {
     "data": {
      "text/plain": [
       "0.0"
      ]
     },
     "execution_count": 118,
     "metadata": {},
     "output_type": "execute_result"
    }
   ],
   "source": [
    "\n",
    "t = -10\n",
    "funcList_x_b,funcList_x_s,funcList_y_b,funcList_y_s  = [],[],[],[]\n",
    "\n",
    "for i in range(200):\n",
    "    funcList_x_b.append(wc_b(t,0))\n",
    "    funcList_x_s.append(wc_s(t,0))\n",
    "    funcList_y_b.append(wc_b(t,1))\n",
    "    funcList_y_s.append(wc_s(t,1))\n",
    "    t += 0.1\n",
    "    \n",
    "#print([i.t for i in funcList])    \n",
    "    \n",
    "x_b = sorted(getErrors(funcList_x_b, D), key = lambda x: x[0])\n",
    "winner.append(x_b[0])\n",
    "x_s = sorted(getErrors(funcList_x_s, D), key = lambda x: x[0])\n",
    "winner.append(x_s[0])\n",
    "y_b = sorted(getErrors(funcList_y_b, D), key = lambda x: x[0])\n",
    "winner.append(y_b[0])\n",
    "y_s = sorted(getErrors(funcList_y_s, D), key = lambda x: x[0])\n",
    "winner.append(y_s[0])\n",
    "\n",
    "print(winner)\n",
    "for i in range(5):\n",
    "    funcListWinners = [i[1] for i in winner]\n",
    "    ALPHA,RULES,D = set_rule(funcListWinners, D, ALPHA,RULES)\n",
    "    wrong = evaluate(ALPHA, RULES)\n",
    "wrongCount = collections.Counter(wrong)\n",
    "wrongCount[False]/len(wrong)"
   ]
  },
  {
   "cell_type": "code",
   "execution_count": 123,
   "metadata": {
    "collapsed": false
   },
   "outputs": [
    {
     "data": {
      "text/plain": [
       "[[-5.800000000000015, 0],\n",
       " [4.6999999999999815, 0],\n",
       " [9.799999999999963, 1],\n",
       " [2.199999999999982, 1],\n",
       " [-3.2000000000000206, 0],\n",
       " [6.3999999999999755, 0],\n",
       " [-4.700000000000019, 1],\n",
       " [6.499999999999975, 1],\n",
       " [9.899999999999963, 0],\n",
       " [-10, 0],\n",
       " [9.799999999999963, 1],\n",
       " [-10, 1],\n",
       " [-6.800000000000011, 0],\n",
       " [-1.400000000000019, 0],\n",
       " [-6.2000000000000135, 1],\n",
       " [6.499999999999975, 1]]"
      ]
     },
     "execution_count": 123,
     "metadata": {},
     "output_type": "execute_result"
    }
   ],
   "source": [
    "weakClass = [[i[2],i[3]] for i in winner]\n",
    "weakClass"
   ]
  },
  {
   "cell_type": "code",
   "execution_count": 130,
   "metadata": {
    "collapsed": false
   },
   "outputs": [
    {
     "data": {
      "text/plain": [
       "[0.19865089873450151,\n",
       " 0.25402717893480664,\n",
       " 0.47519184536525694,\n",
       " 0.31193531777208766,\n",
       " 0.2595017721039975,\n",
       " 0.20204882315394981,\n",
       " 0.35768098468529758,\n",
       " 0.046609866415253359,\n",
       " 0.21429949590609881,\n",
       " 0.142962412770332,\n",
       " 0.24254451410797515,\n",
       " 0.029735501560234009,\n",
       " 0.14011797300919537,\n",
       " 0.092448412419995463,\n",
       " 0.16242052879589239,\n",
       " 0.022571715338171389,\n",
       " 0.092543373346593905,\n",
       " 0.060650293562635862,\n",
       " 0.10962237413406054,\n",
       " 0.016629787076834213,\n",
       " 0.062206332144933811,\n",
       " 0.04054508071574963,\n",
       " 0.074689778107807261,\n",
       " 0.011994346612173858,\n",
       " 0.14618426639952406,\n",
       " 0.14735400453852548,\n",
       " 0.45990468947405927,\n",
       " 0.2136400359247613,\n",
       " -0.3758257113565654,\n",
       " -0.076450886903036711,\n",
       " 0.23860904536703115,\n",
       " 0.091877000687320715,\n",
       " 0.15688601613569814,\n",
       " 0.19766372101200827,\n",
       " 0.19646818481112657,\n",
       " 0.14399668172043653,\n",
       " -0.14111051447458511,\n",
       " -0.049539038657547635,\n",
       " 0.31810965901299837,\n",
       " 0.049652906305978885,\n",
       " 0.11376222137567012,\n",
       " 0.21808278684429189,\n",
       " 0.12562591932155706,\n",
       " 0.13016594369259829,\n",
       " -0.034423764419841213,\n",
       " -0.037198844774592545,\n",
       " 0.33514184324134089,\n",
       " 0.035821228296452311,\n",
       " 0.061639308595252261,\n",
       " 0.20902962090934263,\n",
       " 0.10336948872398698,\n",
       " 0.12300612573147694,\n",
       " 0.02762994373360016,\n",
       " -0.028888286852699566,\n",
       " 0.33406645637134741,\n",
       " 0.028533095878478718,\n",
       " 0.023005839496710884,\n",
       " 0.19214164816797805,\n",
       " 0.091028111456302421,\n",
       " 0.11656088551910955,\n",
       " 0.065474583592335253,\n",
       " -0.019743599054130031,\n",
       " 0.32657486105843098,\n",
       " 0.022841835133935652,\n",
       " -0.0015761886911829892,\n",
       " 0.17377213314673429,\n",
       " 0.082587299238705753,\n",
       " 0.11111667273499781,\n",
       " 0.22016689919142535,\n",
       " 0.056338122544064624,\n",
       " 0.0,\n",
       " 0.0,\n",
       " 0.25005850963622422,\n",
       " 0.13225553139572715,\n",
       " 0.25141426881649154,\n",
       " 0.037328542515650175,\n",
       " -0.060445042083465177,\n",
       " 0.15588127443853175,\n",
       " 0.1308885017583101,\n",
       " 0.12566807232126445,\n",
       " 0.20481494947689752,\n",
       " 0.06943224205426822,\n",
       " -2.2204460492503136e-16,\n",
       " 0.0,\n",
       " 0.2048233710801175,\n",
       " 0.10417744227404309,\n",
       " 0.20423888463064924,\n",
       " 0.037258375082867938,\n",
       " -0.057971876497229118,\n",
       " 0.14432737765438827,\n",
       " 0.12164730274216426,\n",
       " 0.12354455116609085,\n",
       " 0.17817058187619333,\n",
       " 0.082382297542222649,\n",
       " -2.2204460492503136e-16,\n",
       " 1.1102230246251564e-16,\n",
       " 0.17557359811569581,\n",
       " 0.088683016043389989,\n",
       " 0.17411844739271062,\n",
       " 0.033296167546572782,\n",
       " -0.049790503932277339,\n",
       " 0.1376406804662913,\n",
       " 0.10987539288562768,\n",
       " 0.11483291333043288,\n",
       " 0.15252456559201469,\n",
       " 0.092950000721320536,\n",
       " -2.2204460492503136e-16,\n",
       " 0.0,\n",
       " 0.15265928727216449,\n",
       " 0.078368433057403403,\n",
       " 0.15142897589797852,\n",
       " 0.031184547056656024,\n",
       " -0.041821412623850626,\n",
       " 0.13159936358424917,\n",
       " 0.10001457365025292,\n",
       " 0.10497111381941693,\n",
       " 0.13063153090165297,\n",
       " 0.10042728692879599,\n",
       " 0.0,\n",
       " 0.0,\n",
       " 0.13430304861139603,\n",
       " 0.070117024085264476,\n",
       " 0.13324479970875111,\n",
       " 0.03038959272574468,\n",
       " -0.034775890115630037,\n",
       " 0.12558303584479841,\n",
       " 0.091994129762940274,\n",
       " 0.095705521464038573,\n",
       " 0.11267265221669354,\n",
       " 0.10507921422707019,\n",
       " 0.0,\n",
       " -2.2204460492503136e-16,\n",
       " 0.24491362770361005,\n",
       " 0.29492964650989706,\n",
       " 0.36958495661807533,\n",
       " -0.071978093997971351,\n",
       " 0.010180585630549346,\n",
       " -0.12229632807261781,\n",
       " 0.26566862323110696,\n",
       " 0.05923674607297473,\n",
       " 0.15694399225278702,\n",
       " 0.14954819805367411,\n",
       " -0.12675260518599654,\n",
       " 0.094897554501935752,\n",
       " 0.092485324090093898,\n",
       " 0.15101450297410698,\n",
       " 1.1102230246251564e-16,\n",
       " 0.0,\n",
       " 0.22703636312180356,\n",
       " 0.1982772237167382,\n",
       " 0.28066673739745507,\n",
       " -0.023856112709548762,\n",
       " -0.055138329294811834,\n",
       " 0.017434670786028176,\n",
       " 0.28692054069578909,\n",
       " -0.0019501438781125602,\n",
       " 0.17585209172636124,\n",
       " 0.15907822212805864,\n",
       " -0.081791025588880226,\n",
       " 0.11781783540650399,\n",
       " 0.098643747044205324,\n",
       " 0.16817973953361831,\n",
       " 0.0,\n",
       " 1.1102230246251564e-16,\n",
       " 0.21189699837967824,\n",
       " 0.16020521490128156,\n",
       " 0.22924975573582124,\n",
       " 0.010162368935267157,\n",
       " -0.073246619023590531,\n",
       " 0.063811602797544942,\n",
       " 0.28458051361070208,\n",
       " -0.0036591409351908488,\n",
       " 0.17225145998148841,\n",
       " 0.14896990575327484,\n",
       " -0.042238568079667513,\n",
       " 0.11551362903651431,\n",
       " 0.096285466802944017,\n",
       " 0.17678935292478298,\n",
       " 0.0,\n",
       " 0.0,\n",
       " 0.20380467337099675,\n",
       " 0.13800739896104208,\n",
       " 0.1924594114097577,\n",
       " 0.026159233239504125,\n",
       " -0.068486431608772519,\n",
       " 0.082249673439853468,\n",
       " 0.27829435040214767,\n",
       " 0.0081984215249423717,\n",
       " 0.1619436736600787,\n",
       " 0.14066576551210808,\n",
       " -0.01009778736716262,\n",
       " 0.10303913271820903,\n",
       " 0.090187967048214829,\n",
       " 0.18241694299805208,\n",
       " 1.1102230246251564e-16,\n",
       " -2.2204460492503136e-16,\n",
       " 0.19643017845098434,\n",
       " 0.12209830742174395,\n",
       " 0.16560824527962781,\n",
       " 0.035427343293396009]"
      ]
     },
     "execution_count": 130,
     "metadata": {},
     "output_type": "execute_result"
    }
   ],
   "source": [
    "ALPHA"
   ]
  },
  {
   "cell_type": "code",
   "execution_count": 126,
   "metadata": {
    "collapsed": true
   },
   "outputs": [],
   "source": [
    "# plotError()"
   ]
  },
  {
   "cell_type": "code",
   "execution_count": 90,
   "metadata": {
    "collapsed": true
   },
   "outputs": [],
   "source": [
    "def plotError():\n",
    "    df['classified'] = wrong\n",
    "    fig, ax = plt.subplots(num=None, figsize=(6, 6), dpi=100, facecolor='w', edgecolor='k');\n",
    "    ax.scatter(df.x1, df.x2, c= df.classified.apply(lambda l: 'red' if l == False else 'black'));\n",
    "    ax.plot()\n",
    "    ax.set_title('AdaBoost')\n",
    "    plt.show()"
   ]
  },
  {
   "cell_type": "code",
   "execution_count": 129,
   "metadata": {
    "collapsed": false,
    "scrolled": false
   },
   "outputs": [
    {
     "data": {
      "image/png": "[encoded data removed]",
      "text/plain": [
       "<matplotlib.figure.Figure at 0x258cd659630>"
      ]
     },
     "metadata": {},
     "output_type": "display_data"
    }
   ],
   "source": [
    "fig, ax = plt.subplots(num=None, figsize=(6, 6), dpi=100, facecolor='w', edgecolor='k');\n",
    "ax.scatter(df.x1, df.x2, c= df.label.apply(lambda l: 'green' if l == 1 else 'red'));\n",
    "for classifier in weakClass:\n",
    "    if classifier[1] is 0:\n",
    "        ax.plot([classifier[0],classifier[0]],[-10,10])\n",
    "    else:\n",
    "        ax.plot([-10,10],[classifier[0],classifier[0]])\n",
    "ax.set_title('AdaBoost')\n",
    "plt.show()"
   ]
  },
  {
   "cell_type": "code",
   "execution_count": 73,
   "metadata": {
    "collapsed": true
   },
   "outputs": [],
   "source": [
    "li = []\n",
    "func = lambda x: x+y\n",
    "for i in range(10):\n",
    "    li.append(func)"
   ]
  },
  {
   "cell_type": "code",
   "execution_count": null,
   "metadata": {
    "collapsed": true
   },
   "outputs": [],
   "source": []
  }
 ],
 "metadata": {
  "kernelspec": {
   "display_name": "Python 3",
   "language": "python",
   "name": "python3"
  },
  "language_info": {
   "codemirror_mode": {
    "name": "ipython",
    "version": 3
   },
   "file_extension": ".py",
   "mimetype": "text/x-python",
   "name": "python",
   "nbconvert_exporter": "python",
   "pygments_lexer": "ipython3",
   "version": "3.6.0"
  }
 },
 "nbformat": 4,
 "nbformat_minor": 2
}
