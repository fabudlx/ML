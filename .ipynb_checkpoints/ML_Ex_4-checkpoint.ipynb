{
 "cells": [
  {
   "cell_type": "code",
   "execution_count": 1,
   "metadata": {
    "collapsed": false
   },
   "outputs": [
    {
     "name": "stdout",
     "output_type": "stream",
     "text": [
      "FN 6\n",
      "1.6666666666666667 % wrong\n",
      "(24, 24, 3)\n"
     ]
    },
    {
     "data": {
      "image/png": "[encoded data removed]",
      "text/plain": [
       "<matplotlib.figure.Figure at 0x1ba95e044a8>"
      ]
     },
     "metadata": {},
     "output_type": "display_data"
    }
   ],
   "source": [
    "from svmutil import *\n",
    "import ML_GLM as data;\n",
    "import numpy as np"
   ]
  },
  {
   "cell_type": "code",
   "execution_count": 2,
   "metadata": {
    "collapsed": false
   },
   "outputs": [],
   "source": [
    "x = np.array(data.df[['lowestR','lowestG','lowestB','highestR','highestB']])\n",
    "y = np.array(data.df[['lables']])\n",
    "x = x.tolist()\n",
    "y = y.tolist()\n",
    "y = [i[0] for i in y]\n"
   ]
  },
  {
   "cell_type": "code",
   "execution_count": 9,
   "metadata": {
    "collapsed": false
   },
   "outputs": [
    {
     "name": "stdout",
     "output_type": "stream",
     "text": [
      "Accuracy = 50% (30/60) (classification)\n",
      "(50.0, 0.5, nan)\n"
     ]
    }
   ],
   "source": [
    "#y, x = svm_read_problem('C:\\ProgramData\\Anaconda3\\Lib\\libsvm-3.22\\heart_scale')\n",
    "\n",
    "m = svm_train(y, x, '-t 3')\n",
    "p_label, p_acc, p_val = svm_predict(y, x, m)\n",
    "print(p_acc)"
   ]
  },
  {
   "cell_type": "code",
   "execution_count": null,
   "metadata": {
    "collapsed": true
   },
   "outputs": [],
   "source": [
    " # options:\n",
    "# -s svm_type : set type of SVM (default 0)\n",
    "# \t0 -- C-SVC\n",
    "# \t1 -- nu-SVC\n",
    "# \t2 -- one-class SVM\n",
    "# \t3 -- epsilon-SVR\n",
    "# \t4 -- nu-SVR\n",
    "# -t kernel_type : set type of kernel function (default 2)\n",
    "# \t0 -- linear: u'*v\n",
    "# \t1 -- polynomial: (gamma*u'*v + coef0)^degree\n",
    "# \t2 -- radial basis function: exp(-gamma*|u-v|^2)\n",
    "# \t3 -- sigmoid: tanh(gamma*u'*v + coef0)\n",
    "# -d degree : set degree in kernel function (default 3)\n",
    "# -g gamma : set gamma in kernel function (default 1/num_features)\n",
    "# -r coef0 : set coef0 in kernel function (default 0)\n",
    "# -c cost : set the parameter C of C-SVC, epsilon-SVR, and nu-SVR (default 1)\n",
    "# -n nu : set the parameter nu of nu-SVC, one-class SVM, and nu-SVR (default 0.5)\n",
    "# -p epsilon : set the epsilon in loss function of epsilon-SVR (default 0.1)\n",
    "# -m cachesize : set cache memory size in MB (default 100)\n",
    "# -e epsilon : set tolerance of termination criterion (default 0.001)\n",
    "# -h shrinking: whether to use the shrinking heuristics, 0 or 1 (default 1)\n",
    "# -b probability_estimates: whether to train a SVC or SVR model for probability estimates, 0 or 1 (default 0)\n",
    "# -wi weight: set the parameter C of class i to weight*C, for C-SVC (default 1)\n",
    "\n",
    "# The k in the -g option means the number of attributes in the input data."
   ]
  },
  {
   "cell_type": "code",
   "execution_count": 33,
   "metadata": {
    "collapsed": false
   },
   "outputs": [
    {
     "name": "stdout",
     "output_type": "stream",
     "text": [
      "Accuracy = 100% (270/270) (classification)\n",
      "(100.0, 0.0, 1.0)\n"
     ]
    }
   ],
   "source": [
    "y, x = svm_read_problem('C:\\ProgramData\\Anaconda3\\Lib\\libsvm-3.22\\heart_scale')\n",
    "m = svm_train(y, x, '-t 1 -d 4 -g 0.5')\n",
    "p_label, p_acc, p_val = svm_predict(y, x, m)\n",
    "print(p_acc)"
   ]
  },
  {
   "cell_type": "code",
   "execution_count": 21,
   "metadata": {
    "collapsed": false
   },
   "outputs": [
    {
     "name": "stdout",
     "output_type": "stream",
     "text": [
      "Accuracy = 85.9259% (232/270) (classification)\n",
      "(85.92592592592592, 0.562962962962963, 0.5106601248884924)\n"
     ]
    }
   ],
   "source": [
    "y, x = svm_read_problem('C:\\ProgramData\\Anaconda3\\Lib\\libsvm-3.22\\heart_scale')\n",
    "m = svm_train(y, x, '-t 1 -d 3')\n",
    "p_label, p_acc, p_val = svm_predict(y, x, m)\n",
    "print(p_acc)"
   ]
  },
  {
   "cell_type": "code",
   "execution_count": 37,
   "metadata": {
    "collapsed": false
   },
   "outputs": [
    {
     "name": "stdout",
     "output_type": "stream",
     "text": [
      "Accuracy = 68.5185% (185/270) (classification)\n",
      "(68.51851851851852, 1.2592592592592593, 0.1499194198227236)\n"
     ]
    }
   ],
   "source": [
    "y, x = svm_read_problem('C:\\ProgramData\\Anaconda3\\Lib\\libsvm-3.22\\heart_scale')\n",
    "m = svm_train(y, x, '-t 3 -r 3 -g 0.5')\n",
    "p_label, p_acc, p_val = svm_predict(y, x, m)\n",
    "print(p_acc)"
   ]
  },
  {
   "cell_type": "code",
   "execution_count": 25,
   "metadata": {
    "collapsed": false
   },
   "outputs": [
    {
     "name": "stdout",
     "output_type": "stream",
     "text": [
      "Accuracy = 84.4444% (228/270) (classification)\n",
      "(84.44444444444444, 0.6222222222222222, 0.46804080018083183)\n"
     ]
    }
   ],
   "source": [
    "y, x = svm_read_problem('C:\\ProgramData\\Anaconda3\\Lib\\libsvm-3.22\\heart_scale')\n",
    "m = svm_train(y, x, '-t 3 -g 0.1')\n",
    "p_label, p_acc, p_val = svm_predict(y, x, m)\n",
    "print(p_acc)"
   ]
  },
  {
   "cell_type": "code",
   "execution_count": 26,
   "metadata": {
    "collapsed": false
   },
   "outputs": [
    {
     "name": "stdout",
     "output_type": "stream",
     "text": [
      "Accuracy = 100% (270/270) (classification)\n",
      "(100.0, 0.0, 1.0)\n"
     ]
    }
   ],
   "source": [
    "y, x = svm_read_problem('C:\\ProgramData\\Anaconda3\\Lib\\libsvm-3.22\\heart_scale')\n",
    "m = svm_train(y, x, '-t 2 -g 5')\n",
    "p_label, p_acc, p_val = svm_predict(y, x, m)\n",
    "print(p_acc)"
   ]
  },
  {
   "cell_type": "code",
   "execution_count": null,
   "metadata": {
    "collapsed": true
   },
   "outputs": [],
   "source": []
  }
 ],
 "metadata": {
  "kernelspec": {
   "display_name": "Python 3",
   "language": "python",
   "name": "python3"
  },
  "language_info": {
   "codemirror_mode": {
    "name": "ipython",
    "version": 3
   },
   "file_extension": ".py",
   "mimetype": "text/x-python",
   "name": "python",
   "nbconvert_exporter": "python",
   "pygments_lexer": "ipython3",
   "version": "3.6.0"
  }
 },
 "nbformat": 4,
 "nbformat_minor": 2
}
